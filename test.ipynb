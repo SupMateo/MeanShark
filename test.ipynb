{
 "cells": [
  {
   "cell_type": "code",
   "id": "initial_id",
   "metadata": {
    "ExecuteTime": {
     "end_time": "2024-07-27T15:44:55.765070Z",
     "start_time": "2024-07-27T15:44:34.865350Z"
    }
   },
   "source": [
    "import torch\n",
    "from extractor import DataExtractor\n"
   ],
   "outputs": [
    {
     "name": "stdout",
     "output_type": "stream",
     "text": [
      "C:\\Users\\supra\\iCloudDrive\\Documents personnels\\Projets\\AttackDetector\n",
      "C:\\Users\\supra\\iCloudDrive\\Documents personnels\\Projets\\AttackDetector\n"
     ]
    }
   ],
   "execution_count": 1
  },
  {
   "cell_type": "code",
   "id": "a696005c071313",
   "metadata": {
    "ExecuteTime": {
     "end_time": "2024-07-27T15:45:03.083147Z",
     "start_time": "2024-07-27T15:45:03.074119Z"
    }
   },
   "source": "test_extract = DataExtractor(\"HTTPDoSNovember2021.pcapng\")",
   "outputs": [],
   "execution_count": 2
  },
  {
   "metadata": {},
   "cell_type": "markdown",
   "source": "",
   "id": "81f1495caaadb733"
  },
  {
   "cell_type": "code",
   "id": "a367a45a-e9cd-4b70-b77b-b3cf1be9022a",
   "metadata": {
    "ExecuteTime": {
     "end_time": "2024-07-23T16:02:16.340327Z",
     "start_time": "2024-07-23T16:02:16.300105Z"
    }
   },
   "source": "torch.cuda.is_available()",
   "outputs": [
    {
     "data": {
      "text/plain": [
       "True"
      ]
     },
     "execution_count": 4,
     "metadata": {},
     "output_type": "execute_result"
    }
   ],
   "execution_count": 4
  },
  {
   "metadata": {},
   "cell_type": "code",
   "outputs": [],
   "execution_count": null,
   "source": "",
   "id": "97cd948228b3625d"
  }
 ],
 "metadata": {
  "kernelspec": {
   "display_name": "Python 3 (ipykernel)",
   "language": "python",
   "name": "python3"
  },
  "language_info": {
   "codemirror_mode": {
    "name": "ipython",
    "version": 3
   },
   "file_extension": ".py",
   "mimetype": "text/x-python",
   "name": "python",
   "nbconvert_exporter": "python",
   "pygments_lexer": "ipython3",
   "version": "3.12.1"
  }
 },
 "nbformat": 4,
 "nbformat_minor": 5
}
